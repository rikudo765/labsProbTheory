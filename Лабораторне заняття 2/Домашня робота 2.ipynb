{
 "cells": [
  {
   "cell_type": "markdown",
   "metadata": {},
   "source": [
    "# Домашня робота №2"
   ]
  },
  {
   "cell_type": "markdown",
   "metadata": {},
   "source": [
    "## 1 Пароль\n",
    "Напишіть програму (функцію) для генерування випадкового пароля з такими обмеженнями:\n",
    "- пароль складається з рівно $10$ символів\n",
    "- пароль містить хоча б одну маленьку латинську літеру [a-z]\n",
    "- пароль містить хоча б одну велику латинську літеру [A-Z]\n",
    "- пароль містить хоча б одну цифру [0-9]\n",
    "- пароль містить хоча б один спеціальний символ [~!@#$%^&*()-_+=\\/{}[].,?<>:;]"
   ]
  },
  {
   "cell_type": "code",
   "execution_count": 1,
   "metadata": {},
   "outputs": [
    {
     "name": "stdout",
     "output_type": "stream",
     "text": [
      "6jT<IPhdSy\n"
     ]
    }
   ],
   "source": [
    "# Місце для Вашого коду\n",
    "import numpy as np\n",
    "\n",
    "numbers = list(\"0123456789\")\n",
    "small = list(\"abcdefghijklmnopqrstuvwxyz\")\n",
    "big = list(\"ABCDEFGHIJKLMNOPQRSTUVWXYZ\")\n",
    "spec = list(\"~!@#$%^&*()-_+=\\/{}[].,?<>:;\")\n",
    "\n",
    "\n",
    "def generate():\n",
    "    password = \"\"\n",
    "    password += np.random.choice(numbers)\n",
    "    password += np.random.choice(small)\n",
    "    password += np.random.choice(big)\n",
    "    password += np.random.choice(spec)\n",
    "    for i in range(6):\n",
    "        password += np.random.choice(numbers + small + big + spec)\n",
    "    np.random.shuffle(list(password))\n",
    "    return ''.join(list(password))\n",
    "\n",
    "print(generate())"
   ]
  },
  {
   "cell_type": "markdown",
   "metadata": {},
   "source": [
    "## 2 Герби в ряд\n",
    "Реалізуйте функцію для обчислення емпіричної та теоретичної імовірностей випадіння $k$ гербів (HEADS) підряд у серії з $n$ підкидань чесної монетки. Підрахуйте відповідні ймовірності для таких параметрів:\n",
    "- $k = 2, n = 10, 50, 100, 500, 1000, 5000, 10000$\n",
    "- $k = 3, n = 10, 50, 100, 500, 1000, 5000, 10000$\n",
    "\n",
    "**Зауваження.** Нехай $k = 2, n = 10$ та маємо таку послідовність результатів підкидання монети: $\\{ H, T, H, H, H, H, T, T, H, T \\}$. Тоді матимемо $3$ випадки випадіння двох гербів підряд та емпіричну ймовірність такої події $1/3$."
   ]
  },
  {
   "cell_type": "code",
   "execution_count": 8,
   "metadata": {},
   "outputs": [
    {
     "name": "stdout",
     "output_type": "stream",
     "text": [
      "\n",
      "k = 2, n = 10, empirical = 0.1111111111111111, theoretical = 0.859375\n",
      "k = 2, n = 50, empirical = 0.1836734693877551, theoretical = 0.9999999\n",
      "k = 2, n = 100, empirical = 0.20202020202020202, theoretical = 0.9999999\n",
      "k = 2, n = 500, empirical = 0.1623246492985972, theoretical = 0.9999999\n",
      "k = 2, n = 1000, empirical = 0.14714714714714713, theoretical = 0.9999999\n",
      "k = 2, n = 5000, empirical = 0.15983196639327865, theoretical = 0.9999999\n",
      "k = 2, n = 10000, empirical = 0.16681668166816682, theoretical = 0.9999999\n",
      "\n",
      "k = 3, n = 10, empirical = 0.25, theoretical = 0.5078125\n",
      "k = 3, n = 50, empirical = 0.041666666666666664, theoretical = 0.9999999\n",
      "k = 3, n = 100, empirical = 0.08163265306122448, theoretical = 0.9999999\n",
      "k = 3, n = 500, empirical = 0.07228915662650602, theoretical = 0.9999999\n",
      "k = 3, n = 1000, empirical = 0.06012024048096192, theoretical = 0.9999999\n",
      "k = 3, n = 5000, empirical = 0.07102841136454582, theoretical = 0.9999999\n",
      "k = 3, n = 10000, empirical = 0.07081416283256652, theoretical = 0.9999999\n"
     ]
    }
   ],
   "source": [
    "# Місце для Вашого коду\n",
    "\n",
    "from itertools import product\n",
    "\n",
    "\n",
    "def teor(n, k):\n",
    "    space = ['H', 'T']\n",
    "    sub = 'H' * k\n",
    "    count = 0\n",
    "    amount = 0\n",
    "    for el in product(space, repeat=n):\n",
    "        tmp = ''.join(el)\n",
    "        if sub in tmp:\n",
    "            count += 1\n",
    "        amount += 1\n",
    "        \n",
    "    return count / amount\n",
    "\n",
    "\n",
    "# реалізував емпіричну так, як у Вас\n",
    "\n",
    "\n",
    "def practice(n, k):\n",
    "    space = ['H', 'T']\n",
    "    test = ''.join(list(np.random.choice(space, n)))\n",
    "    return test.count('H'*k) / (n - k + 1)\n",
    "\n",
    "\n",
    "for k in [2, 3]:\n",
    "    print()\n",
    "    for n in [10, 50, 100, 500, 1000, 5000, 10000]:\n",
    "        print(\"k = {}, n = {}, empirical = {}, theoretical = {}\".format(k, n, practice(n, k), teor(n, k)))"
   ]
  },
  {
   "cell_type": "markdown",
   "metadata": {},
   "source": [
    "## 3 Найбільше число\n",
    "Реалізуйте функцію підрахунку точної (теоретичної) імовірності того, що максимальне число після $n$ кидків звичайного грального кубика дорівнює $x\\_max$, для таких параметрів:\n",
    "- $n = 3, x\\_max = 6$\n",
    "- $n = 2, x\\_max = 3$\n",
    "- $n = 3, x\\_max = 5$\n",
    "\n",
    "Тобто, якщо $X_i, i = 1, \\ldots, n$, - число на $i$-му кидку кубика, а $X = \\max\\limits_{1 \\leq i \\leq n} X_i$, то потрібно знайти ймовірність $\\textbf{P} \\left( X = x\\_max \\right)$.\n",
    "\n",
    "Підрахуйте також емпіричні ймовірності відповідних подій у випадку $10000$ симуляцій.\n",
    "\n",
    "**Зауваження.** Якщо введені параметри не мають сенсу, то повертати $0$.\n",
    "Тобто, якщо вводиться $x\\_max < 1$ або $x\\_max > 6$."
   ]
  },
  {
   "cell_type": "code",
   "execution_count": 2,
   "metadata": {},
   "outputs": [
    {
     "name": "stdout",
     "output_type": "stream",
     "text": [
      "n = 3, x_max = 6, teoretical = 0.4212962962962963, empirical = 0.4261\n",
      "n = 2, x_max = 3, teoretical = 0.1388888888888889, empirical = 0.1392\n",
      "n = 3, x_max = 5, teoretical = 0.2824074074074074, empirical = 0.2775\n"
     ]
    }
   ],
   "source": [
    "# Місце для Вашого коду\n",
    "\n",
    "\n",
    "def teor(n, x_max):\n",
    "    if x_max < 1 or x_max > 6:\n",
    "        return 0\n",
    "    return (x_max ** n - (x_max - 1) ** n) / 6 ** n\n",
    "\n",
    "\n",
    "def practice(n, x_max):\n",
    "    if x_max < 1 or x_max > 6:\n",
    "        return 0\n",
    "    count = 0\n",
    "    space = range(1, 7)\n",
    "    for sim in range(10000):\n",
    "        tmp = np.random.choice(space, n)\n",
    "        if max(tmp) == x_max:\n",
    "            count += 1\n",
    "    return count / 10000\n",
    "\n",
    "\n",
    "for n, x_max in [(3, 6), (2, 3), (3, 5)]:\n",
    "    print('n = {}, x_max = {}, teoretical = {}, empirical = {}'.format(n, x_max, \n",
    "                                                                       teor(n, x_max), \n",
    "                                                                       practice(n, x_max)))\n",
    "\n"
   ]
  },
  {
   "cell_type": "markdown",
   "metadata": {},
   "source": [
    "## 4 Сума чисел\n",
    "Реалізуйте функцію підрахунку точної (теоретичної) імовірності того, що сума чисел після $n$ кидків звичайного грального кубика дорівнює $s$, для таких параметрів:\n",
    "- $n = 3, s = 13$\n",
    "- $n = 2, s = 5$\n",
    "- $n = 3, s = 7$\n",
    "\n",
    "Тобто, якщо $X_i, i = 1, \\ldots, n$, - число на $i$-му кидку кубика, а $X = \\sum\\limits_{i = 1}^{n} X_i$, то потрібно знайти ймовірність $\\textbf{P} \\left( X = s \\right)$.\n",
    "\n",
    "Підрахуйте також емпіричні ймовірності відповідних подій у випадку $10000$ симуляцій.\n",
    "\n",
    "**Зауваження.** Якщо введені параметри не мають сенсу, то повертати $0$.\n",
    "Наприклад, якщо при $n = 3$ вводиться $s < 3$ або $s > 18$."
   ]
  },
  {
   "cell_type": "code",
   "execution_count": 3,
   "metadata": {},
   "outputs": [
    {
     "name": "stdout",
     "output_type": "stream",
     "text": [
      "n = 3, s = 13, teoretical = 0.09722222222222222, empirical = 0.096\n",
      "n = 2, s = 5, teoretical = 0.1111111111111111, empirical = 0.1106\n",
      "n = 3, s = 7, teoretical = 0.06944444444444445, empirical = 0.0714\n"
     ]
    }
   ],
   "source": [
    "# Місце для Вашого коду\n",
    "\n",
    "from itertools import product\n",
    "\n",
    "\n",
    "def teor(n, s):\n",
    "    if s < n or s > n * 6:\n",
    "        return 0\n",
    "    count = 0\n",
    "    space = range(1, 7)\n",
    "    for test in product(space, repeat = n):\n",
    "        if sum(test) == s:\n",
    "            count += 1\n",
    "    return count / 6 ** n\n",
    "\n",
    "\n",
    "def practice(n, s):\n",
    "    if s < n or s > n * 6:\n",
    "        return 0\n",
    "    space = range(1, 7)\n",
    "    count = 0\n",
    "    for sim in range(10000):\n",
    "        test = np.random.choice(space, n)\n",
    "        if sum(test) == s:\n",
    "            count += 1\n",
    "    return count / 10000\n",
    "\n",
    "\n",
    "for n, s in [(3, 13), (2, 5), (3, 7)]:\n",
    "    print(\"n = {}, s = {}, teoretical = {}, empirical = {}\".format(n, s, teor(n, s), practice(n, s)))\n"
   ]
  },
  {
   "cell_type": "code",
   "execution_count": null,
   "metadata": {},
   "outputs": [],
   "source": []
  }
 ],
 "metadata": {
  "kernelspec": {
   "display_name": "Python 3",
   "language": "python",
   "name": "python3"
  },
  "language_info": {
   "codemirror_mode": {
    "name": "ipython",
    "version": 3
   },
   "file_extension": ".py",
   "mimetype": "text/x-python",
   "name": "python",
   "nbconvert_exporter": "python",
   "pygments_lexer": "ipython3",
   "version": "3.6.9"
  }
 },
 "nbformat": 4,
 "nbformat_minor": 1
}
